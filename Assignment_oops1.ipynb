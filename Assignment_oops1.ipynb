{
  "nbformat": 4,
  "nbformat_minor": 0,
  "metadata": {
    "colab": {
      "provenance": [],
      "authorship_tag": "ABX9TyN0k/+GYFb3CHkcJnZWoAmM",
      "include_colab_link": true
    },
    "kernelspec": {
      "name": "python3",
      "display_name": "Python 3"
    },
    "language_info": {
      "name": "python"
    }
  },
  "cells": [
    {
      "cell_type": "markdown",
      "metadata": {
        "id": "view-in-github",
        "colab_type": "text"
      },
      "source": [
        "<a href=\"https://colab.research.google.com/github/Vaibhav074N/Assignement-oops1/blob/main/Assignment_oops1.ipynb\" target=\"_parent\"><img src=\"https://colab.research.google.com/assets/colab-badge.svg\" alt=\"Open In Colab\"/></a>"
      ]
    },
    {
      "cell_type": "markdown",
      "source": [
        "#####Q1."
      ],
      "metadata": {
        "id": "DKK7ziWW3aRO"
      }
    },
    {
      "cell_type": "code",
      "source": [
        "'''\n",
        "A class is a blueprint or template for creating objects. it defines the properties and methods that an object\n",
        "of that class will have. Properties are the data or state of an object, and methods are the actions or behaviors\n",
        "that an object can perform.\n",
        "\n",
        "An object is an instance of a class , and it contains its own data and methods. for example, you could create a class\n",
        "called 'person' that has properites such as name and age, and method such as speak() and walk().Each instance of the person\n",
        "class would be a unique object with its own name and age, but they would all have the same methods to speak and walk.\n",
        "\n",
        "Ex:\n",
        "RailwayForm    --> Class [Blueprint]\n",
        "vaibhav    --> vaibhav's railwayform -->  Object[entity]\n",
        "omsai     --> omsai's railwayform    -->  Object[entity]\n",
        "\n",
        "Here, each entity would have same methods invoke from class.\n",
        "'''"
      ],
      "metadata": {
        "id": "_ge6cIA63dT1"
      },
      "execution_count": null,
      "outputs": []
    },
    {
      "cell_type": "markdown",
      "source": [
        "#####Q2."
      ],
      "metadata": {
        "id": "29fzXdaO3uKC"
      }
    },
    {
      "cell_type": "code",
      "source": [
        "'''\n",
        "The four pillars of oops are:\n",
        "(1) Inheritance\n",
        "(2) Polymorphism\n",
        "(3) Encapsulation\n",
        "(4) Abstraction\n",
        "\n",
        "Inheritance -  which allows new classes to be created that inherit the properties and methods of an existing class.\n",
        "This allows for code reuse makes it easy to create new classes that have similar functionality to existing classes.\n",
        "\n",
        "Polymorphism - which means that objects of different classes can be treated as if they were objects of a common class.\n",
        "This allows for greater flexibility in code and makes it easier to write code that can work with multiple types of objects.\n",
        "\n",
        "Encapsulation - which means that the internal state of an object is hidden and can only be accessed or modified through\n",
        "the object's methods.This helps to protect the object's data and prevent it from being modified in unexpected ways.\n",
        "\n",
        "Abstraction - It means hiding the details and implementation of the code.\n",
        "'''"
      ],
      "metadata": {
        "id": "pQO82uxk3vvl"
      },
      "execution_count": null,
      "outputs": []
    },
    {
      "cell_type": "markdown",
      "source": [
        "#####Q3."
      ],
      "metadata": {
        "id": "P4nhzhKb35s0"
      }
    },
    {
      "cell_type": "code",
      "source": [
        "'''\n",
        "__init__ is one of the reserved function in python. In oop, it is known as a constructor. we can also create constructor\n",
        " by defining the function name with same class name.\n",
        " Ex:  class abc:\n",
        "         def __abc__(self):\n",
        "\n",
        "A constructor is a special method in a class used to create and initialize an object of a class.\n",
        "It is a unique function that gets called automatically when an object is created of a class.\n",
        "The main purpose of a constructor is to initialize or assign values to the data members of that class.\n",
        "\n",
        "Types of constructor:\n",
        "'''\n",
        "#(1)parameterized -\n",
        "\n",
        "class details:\n",
        "    def __init__(self,animal,group):\n",
        "        self.animal=animal\n",
        "        self.group=group\n",
        "obj = details(\"crab\",\"crustaceans\")\n",
        "print(obj.animal,\"belongs to the\", obj.group, \"group\")\n",
        "\n",
        "#(2)Default -\n",
        "\n",
        "class details:\n",
        "    def __init__(self):\n",
        "        print(\"animal crab belongs to crustaceans group \")\n",
        "obj1=details()\n"
      ],
      "metadata": {
        "colab": {
          "base_uri": "https://localhost:8080/"
        },
        "id": "mylhYXDr37SW",
        "outputId": "14ea29a3-a732-49c8-8351-a0c318e5e762"
      },
      "execution_count": null,
      "outputs": [
        {
          "output_type": "stream",
          "name": "stdout",
          "text": [
            "crab belongs to the crustaceans group\n",
            "animal crab belongs to crustaceans group \n"
          ]
        }
      ]
    },
    {
      "cell_type": "markdown",
      "source": [
        "######Q4."
      ],
      "metadata": {
        "id": "9No2RBGh4reS"
      }
    },
    {
      "cell_type": "code",
      "source": [
        "'''\n",
        "Use of self:\n",
        "When ever we define a function inside a class, we have supposed to give a pointer or reference,that the class will able to find the method.\n",
        "It simply means ,that object on which my method is called.\n",
        "self is not reserved keyword,we can give variable name also.\n",
        "'''"
      ],
      "metadata": {
        "id": "g5jlqxcC4t5x"
      },
      "execution_count": null,
      "outputs": []
    },
    {
      "cell_type": "markdown",
      "source": [
        "#####Q5."
      ],
      "metadata": {
        "id": "NRPZIAH_5Sbv"
      }
    },
    {
      "cell_type": "code",
      "source": [
        "# Inheritance -  which allows new classes to be created that inherit the properties and methods of an existing class.\n",
        "#                This allows for code reuse makes it easy to create new classes that have similar functionality to existing classes.\n",
        "# Types of inheritance:-\n",
        "# (1)Single Inheritance: \n",
        "# (2)Multiple Inheritance: \n",
        "# (3)Multilevel Inheritance :\n",
        "# (4)Hierarchical Inheritance: \n",
        "# (5)Hybrid Inheritance: "
      ],
      "metadata": {
        "id": "FOgeZi865T7R"
      },
      "execution_count": null,
      "outputs": []
    },
    {
      "cell_type": "code",
      "source": [
        "# (1) Single inheritance enables a derived class to inherit properties from a single parent class, thus enabling code reusability and the addition of new features to existing code.\n",
        "class box:\n",
        "    def f1(self):\n",
        "        print(\"This is a f1 function.\")\n",
        "class pen(box):\n",
        "    def f2(self):\n",
        "        print(\"this is f2 function.\")\n",
        "obj=pen()\n",
        "obj.f1()\n",
        "obj.f2()\n",
        "\n"
      ],
      "metadata": {
        "id": "lTY3OJXg7KME",
        "colab": {
          "base_uri": "https://localhost:8080/"
        },
        "outputId": "5e510b42-ae0b-4363-81ed-6fc1792afa72"
      },
      "execution_count": 1,
      "outputs": [
        {
          "output_type": "stream",
          "name": "stdout",
          "text": [
            "This is a f1 function.\n",
            "this is f2 function.\n"
          ]
        }
      ]
    },
    {
      "cell_type": "code",
      "source": [
        "# (2) When a class can be derived from more than one base class this type of inheritance is called multiple inheritances. \n",
        "#     In multiple inheritances, all the features of the base classes are inherited into the derived class. \n",
        "\n",
        "class School:\n",
        "    school_name=\"\"\n",
        "    def school(self):\n",
        "        print(self.school_name)\n",
        "class Teacher:\n",
        "    teacher_name=\"\"\n",
        "    def teacher(self):\n",
        "        print(self.teacher_name)\n",
        "class student(School,Teacher):\n",
        "    def detail(self):\n",
        "        print(\"School :\",self.school_name)\n",
        "        print(\"Teacher :\",self.teacher_name)\n",
        "std1=student()\n",
        "std1.school_name=\"Peter Saint\"\n",
        "std1.teacher_name=\"Joey\"\n",
        "std1.detail()"
      ],
      "metadata": {
        "id": "VxKQABoR7WgW",
        "colab": {
          "base_uri": "https://localhost:8080/"
        },
        "outputId": "3cc03ba9-9f94-4e22-c2d4-9b8b5e973885"
      },
      "execution_count": 2,
      "outputs": [
        {
          "output_type": "stream",
          "name": "stdout",
          "text": [
            "School : Peter Saint\n",
            "Teacher : Joey\n"
          ]
        }
      ]
    },
    {
      "cell_type": "code",
      "source": [
        "#(3) In multilevel inheritance, features of the base class and the derived class are further inherited into the new derived class. \n",
        "#    This is similar to a relationship representing a child and a grandfather. \n",
        "\n",
        "class Parent:\n",
        "   def __init__(self,name):\n",
        "     self.name = name\n",
        "   def getName(self):\n",
        "     return self.name\n",
        "class Child(Parent):\n",
        "   def __init__(self,name,age):\n",
        "     Parent.__init__(self,name)\n",
        "     self.age = age\n",
        "   def getAge(self):\n",
        "     return self.age\n",
        "class Grandchild(Child):\n",
        "   def __init__(self,name,age,location):\n",
        "     Child.__init__(self,name,age)\n",
        "     self.location=location\n",
        "   def getLocation(self):\n",
        "     return self.location\n",
        "gc = Grandchild(\"Vaibhav\",22,\"Nanded\")\n",
        "print(gc.getName(), gc.getAge(), gc.getLocation())"
      ],
      "metadata": {
        "id": "-gKW_A507mYc",
        "colab": {
          "base_uri": "https://localhost:8080/"
        },
        "outputId": "740aaacf-021c-430e-de6c-68e362681c9e"
      },
      "execution_count": 14,
      "outputs": [
        {
          "output_type": "stream",
          "name": "stdout",
          "text": [
            "Vaibhav 22 Nanded\n"
          ]
        }
      ]
    },
    {
      "cell_type": "code",
      "source": [
        "#(4) When more than one derived class are created from a single base this type of inheritance is called hierarchical inheritance. \n",
        "#    In this program, we have a parent (base) class and two child (derived) classes.\n",
        "\n",
        "class gamer:\n",
        "    def f1(self):\n",
        "        print(\"gamer mode is on\")\n",
        "class bot1(gamer):\n",
        "    def f2(self):\n",
        "        print(\"This is bot1 here.\")\n",
        "class bot2(gamer):\n",
        "    def f3(self):\n",
        "        print(\"This is bot2 here\")\n",
        "\n",
        "obj1=bot1()\n",
        "obj1.f1()\n",
        "obj1.f2()\n",
        "\n",
        "obj2=bot2()\n",
        "obj2.f1()\n",
        "obj2.f3()\n"
      ],
      "metadata": {
        "id": "cc5o6vWG7rX_",
        "colab": {
          "base_uri": "https://localhost:8080/"
        },
        "outputId": "921bdaab-8795-4940-9f96-e5c5f1b94f12"
      },
      "execution_count": 6,
      "outputs": [
        {
          "output_type": "stream",
          "name": "stdout",
          "text": [
            "gamer mode is on\n",
            "This is bot1 here.\n",
            "gamer mode is on\n",
            "This is bot2 here\n"
          ]
        }
      ]
    },
    {
      "cell_type": "code",
      "source": [
        "#(5) Inheritance consisting of multiple types of inheritance is called hybrid inheritance.\n",
        "\n",
        "\n",
        "class school:\n",
        "    def f1(self):\n",
        "        print(\"School is near nanded\")\n",
        "class std1(school):\n",
        "    def f2(self):\n",
        "        print(\"Student 1 in school.\")\n",
        "class std2(school):\n",
        "    def f3(self):\n",
        "        print(\"Student 2 in school.\")\n",
        "class std3(std1,school):\n",
        "    def f4(self):\n",
        "        print(\"This is student 3.\")\n",
        "o = std3()\n",
        "o.f1()\n",
        "o.f2()\n",
        "o.f4()"
      ],
      "metadata": {
        "id": "37J3FDtN7ypG",
        "colab": {
          "base_uri": "https://localhost:8080/"
        },
        "outputId": "1c776652-43dd-4830-9f01-caa01d2964d5"
      },
      "execution_count": 7,
      "outputs": [
        {
          "output_type": "stream",
          "name": "stdout",
          "text": [
            "School is near nanded\n",
            "Student 1 in school.\n",
            "This is student 3.\n"
          ]
        }
      ]
    }
  ]
}